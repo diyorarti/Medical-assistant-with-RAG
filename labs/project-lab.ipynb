{
 "cells": [
  {
   "cell_type": "markdown",
   "id": "8963635c",
   "metadata": {},
   "source": [
    "# Enhance Medical Assistant chatbot with RAG integration\n",
    "\n",
    "In this lab, I’m improving the performance of the fine-tuned LLM-based Medical Assistant chatbot (https://github.com/diyorarti/medical-assistant) by integrating a Retriever-Augmented Generation (RAG) pipeline. The system leverages three external medical books as the knowledge base to provide more accurate, context-aware, and evidence-based responses.\n"
   ]
  },
  {
   "cell_type": "markdown",
   "id": "cac6571a",
   "metadata": {},
   "source": [
    "# Data Loader 1\n",
    "### Implement data loading pipeline for medical knowledge sources\n",
    "\n",
    "Developed a data loader to process all PDF files from a folder, extracting text page by page and attaching relevant metadata. The data is loaded using `LangChain.document_loaders.PyPDFLoader`, which treats each page of a PDF as a separate Document object containing both `metadata` and `page_content`.\n",
    "\n",
    "DATA SOURCES:\n",
    "1. \"Aging: Natural or Disease?\" by Alex Zhavoronkov (https://www.ncbi.nlm.nih.gov/books/NBK561517/)\n",
    "2. \"Basic Epidemiology\" by R. Bonita, R. Beaglehole, and T. Kjellström (https://iris.who.int/items/3d726576-7d68-4e66-a18b-25abf77c4894)\n",
    "3. \"Genes and Disease\" by NCBI (https://www.ncbi.nlm.nih.gov/books/NBK22183/)"
   ]
  },
  {
   "cell_type": "code",
   "execution_count": 1,
   "id": "e8c6ef57",
   "metadata": {},
   "outputs": [],
   "source": [
    "import hashlib\n",
    "from pathlib import Path\n",
    "\n",
    "def sha256_file(path:Path, chunk_size:int=8192)->str:\n",
    "    \"\"\"\n",
    "    Comupute file Fingerprint\n",
    "    helps to track whether a file's content has changed or avoid reprocessing duplicates\n",
    "    \"\"\"\n",
    "    h = hashlib.sha256()\n",
    "    with path.open(\"rb\") as f:\n",
    "        while True:\n",
    "            b = f.read(chunk_size)\n",
    "            if not b:\n",
    "                break\n",
    "            h.update(b)\n",
    "    return h.hexdigest()"
   ]
  },
  {
   "cell_type": "code",
   "execution_count": 3,
   "id": "b4d01681",
   "metadata": {},
   "outputs": [],
   "source": [
    "from pathlib import Path\n",
    "from typing import List\n",
    "from langchain_community.document_loaders import PyPDFLoader\n",
    "from langchain_core.documents import Document\n",
    "\n",
    "def load_data(data_dir:str, min_chars: int = 30) -> List[Document]:\n",
    "    \"\"\"\n",
    "    Recursively load PDFs under `data_dir` and return page-level documents\n",
    "    enriched with stable file metadata (absolute path, source path, mtime, sha256)\n",
    "\n",
    "    Args:\n",
    "        data_dir:Root directory to scan for PDFs\n",
    "        min_chars:Minimum non-whitespace charaters to keep a page\n",
    "    \"\"\"\n",
    "    data_dir = Path(data_dir)\n",
    "    files = list(data_dir.glob(\"**/*.pdf\"))\n",
    "    print(f\"Number of files {len(files)}\")\n",
    "    all_documents: List[Document] = []\n",
    "    skipped_pages = 0\n",
    "\n",
    "    for file in files:\n",
    "        abs_path = file.resolve()\n",
    "        print(f\"Processing file: {abs_path}\")\n",
    "\n",
    "        try:\n",
    "            loader = PyPDFLoader(str(abs_path))\n",
    "            documents = loader.load()\n",
    "        except Exception as e:\n",
    "            print(f\"!! Skipping {abs_path} due to error: {e}\")\n",
    "            continue\n",
    "\n",
    "        file_hash = sha256_file(abs_path)\n",
    "        try:\n",
    "            mtime = abs_path.stat().st_mtime\n",
    "        except Exception:\n",
    "            mtime = None\n",
    "\n",
    "        for doc in documents:\n",
    "            content = (doc.page_content or \"\").strip()\n",
    "            if len(content) < min_chars:\n",
    "                skipped_pages += 1\n",
    "                continue\n",
    "            meta = dict(doc.metadata or {})\n",
    "            page = meta.get(\"page\")\n",
    "            meta.update({\n",
    "                \"source\":str(abs_path),\n",
    "                \"source_file\":str(abs_path),\n",
    "                \"source_name\":abs_path.name,\n",
    "                \"file_type\":\"pdf\",\n",
    "                \"file_sha256\":file_hash,\n",
    "                \"file_mtime\":mtime,\n",
    "                \"page\":page if page is not None else None,\n",
    "            })\n",
    "            doc.metadata=meta\n",
    "        all_documents.extend(documents)\n",
    "    print(f\"skipped (short/blank) so far: {skipped_pages}\")\n",
    "    print(f\"\\nTotal documents loaded: {len(all_documents)}\")\n",
    "    return all_documents"
   ]
  },
  {
   "cell_type": "code",
   "execution_count": 4,
   "id": "52e182ab",
   "metadata": {},
   "outputs": [
    {
     "name": "stdout",
     "output_type": "stream",
     "text": [
      "Number of files 3\n",
      "Processing file: D:\\Users\\User\\RAG-API\\data\\Aging_natural_or_disease.pdf\n",
      "Processing file: D:\\Users\\User\\RAG-API\\data\\basic_epidemiology.pdf\n",
      "Processing file: D:\\Users\\User\\RAG-API\\data\\Genes_and_Disease.pdf\n",
      "skipped (short/blank) so far: 81\n",
      "\n",
      "Total documents loaded: 466\n"
     ]
    }
   ],
   "source": [
    "documents = load_data(\"../data\")"
   ]
  },
  {
   "cell_type": "code",
   "execution_count": 6,
   "id": "066969bc",
   "metadata": {},
   "outputs": [
    {
     "data": {
      "text/plain": [
       "{'producer': 'Antenna House PDF Output Library 6.6.1477 (Linux64)',\n",
       " 'creator': 'AH XSL Formatter V6.6 MR7 for Linux64 : 6.6.9.39847 (2019-07-29T09:58+09)',\n",
       " 'creationdate': '2020-09-03T09:54:06-05:00',\n",
       " 'moddate': '2020-09-03T09:54:06-05:00',\n",
       " 'title': 'Aging: natural or disease? A view from medical textbooks',\n",
       " 'trapped': '/False',\n",
       " 'source': 'D:\\\\Users\\\\User\\\\RAG-API\\\\data\\\\Aging_natural_or_disease.pdf',\n",
       " 'total_pages': 19,\n",
       " 'page': 4,\n",
       " 'page_label': '5',\n",
       " 'source_file': 'D:\\\\Users\\\\User\\\\RAG-API\\\\data\\\\Aging_natural_or_disease.pdf',\n",
       " 'source_name': 'Aging_natural_or_disease.pdf',\n",
       " 'file_type': 'pdf',\n",
       " 'file_sha256': 'f700a35f9fd7ef679f1c72a53b46a46adad1c2273dad8c7d40aeb97c543bb921',\n",
       " 'file_mtime': 1760668682.7098148}"
      ]
     },
     "execution_count": 6,
     "metadata": {},
     "output_type": "execute_result"
    }
   ],
   "source": [
    "documents[4].metadata"
   ]
  },
  {
   "cell_type": "code",
   "execution_count": 8,
   "id": "0e635abe",
   "metadata": {},
   "outputs": [
    {
     "name": "stdout",
     "output_type": "stream",
     "text": [
      "Table 1. Selected quotations arguing against the aging vs. disease dichotomy.\n",
      "Charcot, 1881, p. \n",
      "2043\n",
      "“The textural changes which old age induce in the organism sometimes attain such a point that the \n",
      "physiological and pathological states seem to mingle by an imperceptible transition and to be no longer sharply \n",
      "distinguishable. ”\n",
      "Kleemeier, 1965, p. \n",
      "5544\n",
      "“Can the effects of aging per se be distinguished from those of pathology? (…) To attribute to aging all time \n",
      "associated changes to which no specific cause can be found is at best a temporary holding tactic which will \n",
      "suffice only as long as we are ignorant of the mechanism involved. Time alone causes nothing. ”\n",
      "Hall, 1984, p. 78f45 “ Attempts have been made by numerous workers to separate physiological from pathological aging. The two \n",
      "are, however, so interrelated as to make attempts relatively abortive. It would be far more relevant to accept the \n",
      "existence of a continuum of ageing phenomena. ”\n",
      "Rattan, 1991, p. \n",
      "52646\n",
      "“ Although it is well known that most diseases show marked increases with age, the connection between the \n",
      "ageing process and the incidence of age-related diseases is highly underestimated. Recent developments in \n",
      "gerontology are unearthing the molecular link between ageing and disease. ”\n",
      "Holliday, 1995, p. \n",
      "13847\n",
      "“ … the distinction between so-called natural ageing and the pathologies that are common in old people is \n",
      "artificial. What we see is an increasing likelihood of many diseases in individuals as they age, which does not, of \n",
      "course, mean that all individuals develop all the pathologies. ”\n",
      "Callahan and \n",
      "Topinkova, 1998, p. \n",
      "942\n",
      "“In short, not only does aging lend itself to be characterised as a disease, but the advantage of doing so is that, \n",
      "by rejecting the seeming fatalism of the label ‘natural’ , it better legitimises medical efforts to either eliminate it \n",
      "or to get rid of those undesirable conditions associated with it. ”\n",
      "Guarente and \n",
      "Kenyon, 2000, p. \n",
      "2613\n",
      "“When single genes are changed, animals that should be old stay young. In humans, these mutants would be \n",
      "analogous to a ninety-year-old who looks and feels forty-five. On this basis we begin to think of ageing as a \n",
      "disease that can be cured, or at least postponed. ”\n",
      "Caplan, 2005, p. \n",
      "S756\n",
      "“(…) the common belief that ageing is a natural process is also mistaken. And if that is true, and if it is actually \n",
      "the case that what occurs during the ageing process parallels the changes that occur during paradigmatic \n",
      "examples of disease (…), then it would be reasonable to consider ageing as a disease. ”\n",
      "Gems, 2009, p. 348 “The evolutionary theory adds insult to injury by telling us that it is a process without any kind of benign \n",
      "function in the cycle of life; moreover, it is, essentially, a form of genetic disease, that everybody has and that is \n",
      "invariably fatal. We, all of us, have inherited a horrible and invariably fatal genetic disease. ”\n",
      "Bulterijs et al., 2015 \n",
      "p. 349\n",
      "“ As aging appropriately fits the definition of disease, there is a shifting consensus that aging should be seen as a \n",
      "disease process in itself, and not a benign progression of age that increases the risk of disease. ”\n",
      "2. How is aging viewed in the medical field?\n",
      "2.1. Two surveys of the medical perception of aging\n",
      "How is the relationship between aging and disease perceived in the medical establishment? We were unable to \n",
      "identify any studies addressing this issue specifically. However, two studies analyse the concept of disease more \n",
      "broadly and include the question of the status of aging, and therefore give some indication of the medical \n",
      "perception of aging.1,21 It is worth noting that neither study deals with the linguistics, i.e. no study distinguishes \n",
      "the different meanings of aging (e.g. maturation vs senescence).\n",
      "2.1.1. BMJ vote on the top ‘non-diseases’\n",
      "In 2002, the British Medical Journal (BMJ) ran a poll to identify the most widely recognized non-diseases. Non-\n",
      "disease was defined as “a human process or problem that some have defined as a medical condition but where \n",
      "people may have better outcomes if the problem or process was not defined in that way” .21\n",
      "The BMJ is ranked fifth amongst general medical journals. It targets doctors, researchers and other health \n",
      "professionals,22 thereby addressing the core medical field. For the survey, the editorial board and journal readers \n",
      "brainstormed nearly 200 conditions potentially qualifying as non-diseases. Then, 570 people voted on whether a \n",
      "Aging: natural or disease? A view from medical textbooks 5\n",
      "Author Manuscript Author Manuscript Author Manuscript\n"
     ]
    }
   ],
   "source": [
    "print(documents[4].page_content)"
   ]
  },
  {
   "cell_type": "code",
   "execution_count": null,
   "id": "338660c7",
   "metadata": {},
   "outputs": [],
   "source": []
  }
 ],
 "metadata": {
  "kernelspec": {
   "display_name": "ragApp",
   "language": "python",
   "name": "python3"
  },
  "language_info": {
   "codemirror_mode": {
    "name": "ipython",
    "version": 3
   },
   "file_extension": ".py",
   "mimetype": "text/x-python",
   "name": "python",
   "nbconvert_exporter": "python",
   "pygments_lexer": "ipython3",
   "version": "3.10.19"
  }
 },
 "nbformat": 4,
 "nbformat_minor": 5
}
